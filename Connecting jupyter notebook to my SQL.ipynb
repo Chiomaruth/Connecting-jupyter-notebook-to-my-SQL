{
 "cells": [
  {
   "cell_type": "code",
   "execution_count": 4,
   "id": "6e98e70c",
   "metadata": {},
   "outputs": [],
   "source": [
    "import pandas as pd\n",
    "import numpy as np"
   ]
  },
  {
   "cell_type": "code",
   "execution_count": 8,
   "id": "2d94730b",
   "metadata": {},
   "outputs": [],
   "source": [
    "import mysql.connector as mc"
   ]
  },
  {
   "cell_type": "markdown",
   "id": "331806b0",
   "metadata": {},
   "source": [
    "# step1.connect to your database server"
   ]
  },
  {
   "cell_type": "code",
   "execution_count": 11,
   "id": "4f4e8d9c",
   "metadata": {},
   "outputs": [],
   "source": [
    "connection = mc.connect(user=\"root\", host=\"localhost\", password=\"123456789\")"
   ]
  },
  {
   "cell_type": "code",
   "execution_count": null,
   "id": "b6e0826a",
   "metadata": {},
   "outputs": [],
   "source": []
  },
  {
   "cell_type": "markdown",
   "id": "8df3d22b",
   "metadata": {},
   "source": [
    "# step2:To grant access to database server;"
   ]
  },
  {
   "cell_type": "code",
   "execution_count": 13,
   "id": "f6adcb66",
   "metadata": {},
   "outputs": [],
   "source": [
    "cur = connection.cursor()"
   ]
  },
  {
   "cell_type": "code",
   "execution_count": null,
   "id": "ac9488e6",
   "metadata": {},
   "outputs": [],
   "source": []
  },
  {
   "cell_type": "code",
   "execution_count": 14,
   "id": "12dfa644",
   "metadata": {},
   "outputs": [
    {
     "data": {
      "text/plain": [
       "[('anthony_ruth',),\n",
       " ('assignment',),\n",
       " ('class work',),\n",
       " ('classicmodels',),\n",
       " ('classwork',),\n",
       " ('information_schema',),\n",
       " ('j',),\n",
       " ('lasop2023',),\n",
       " ('mysql',),\n",
       " ('olowoira',),\n",
       " ('orderdetails',),\n",
       " ('performance_schema',),\n",
       " ('ruthy',),\n",
       " ('second database',),\n",
       " ('student',),\n",
       " ('sys',)]"
      ]
     },
     "execution_count": 14,
     "metadata": {},
     "output_type": "execute_result"
    }
   ],
   "source": [
    "mysql_query1 = \"\"\"show databases\"\"\" # to show all database in mysql server\n",
    "cur = connection.cursor()\n",
    "cur.execute(mysql_query1)\n",
    "cur.fetchall()"
   ]
  },
  {
   "cell_type": "code",
   "execution_count": 16,
   "id": "f9619565",
   "metadata": {},
   "outputs": [],
   "source": [
    "mysql_query1 = \"\"\"use orderdetails\"\"\" # to show all database in mysql server\n",
    "cur = connection.cursor()\n",
    "cur.execute(mysql_query1)\n",
    "connection.commit()"
   ]
  },
  {
   "cell_type": "code",
   "execution_count": 17,
   "id": "93362fb8",
   "metadata": {},
   "outputs": [
    {
     "name": "stderr",
     "output_type": "stream",
     "text": [
      "C:\\Users\\HP\\anaconda3\\lib\\site-packages\\pandas\\io\\sql.py:762: UserWarning: pandas only support SQLAlchemy connectable(engine/connection) ordatabase string URI or sqlite3 DBAPI2 connectionother DBAPI2 objects are not tested, please consider using SQLAlchemy\n",
      "  warnings.warn(\n"
     ]
    },
    {
     "data": {
      "text/html": [
       "<div>\n",
       "<style scoped>\n",
       "    .dataframe tbody tr th:only-of-type {\n",
       "        vertical-align: middle;\n",
       "    }\n",
       "\n",
       "    .dataframe tbody tr th {\n",
       "        vertical-align: top;\n",
       "    }\n",
       "\n",
       "    .dataframe thead th {\n",
       "        text-align: right;\n",
       "    }\n",
       "</style>\n",
       "<table border=\"1\" class=\"dataframe\">\n",
       "  <thead>\n",
       "    <tr style=\"text-align: right;\">\n",
       "      <th></th>\n",
       "      <th>customer_id</th>\n",
       "      <th>fullname</th>\n",
       "      <th>phone no</th>\n",
       "      <th>state</th>\n",
       "    </tr>\n",
       "  </thead>\n",
       "  <tbody>\n",
       "    <tr>\n",
       "      <th>0</th>\n",
       "      <td>1</td>\n",
       "      <td>james kola</td>\n",
       "      <td>2234555</td>\n",
       "      <td>Lagos</td>\n",
       "    </tr>\n",
       "    <tr>\n",
       "      <th>1</th>\n",
       "      <td>2</td>\n",
       "      <td>ola obi</td>\n",
       "      <td>5435566</td>\n",
       "      <td>Lagos</td>\n",
       "    </tr>\n",
       "    <tr>\n",
       "      <th>2</th>\n",
       "      <td>3</td>\n",
       "      <td>ada alao</td>\n",
       "      <td>947328987</td>\n",
       "      <td>Abuja</td>\n",
       "    </tr>\n",
       "    <tr>\n",
       "      <th>3</th>\n",
       "      <td>4</td>\n",
       "      <td>ruth anthony</td>\n",
       "      <td>839998</td>\n",
       "      <td>Kano</td>\n",
       "    </tr>\n",
       "    <tr>\n",
       "      <th>4</th>\n",
       "      <td>5</td>\n",
       "      <td>rasheed amole</td>\n",
       "      <td>938387</td>\n",
       "      <td>Lagos</td>\n",
       "    </tr>\n",
       "    <tr>\n",
       "      <th>5</th>\n",
       "      <td>6</td>\n",
       "      <td>idris noheem</td>\n",
       "      <td>738727</td>\n",
       "      <td>Abuja</td>\n",
       "    </tr>\n",
       "    <tr>\n",
       "      <th>6</th>\n",
       "      <td>7</td>\n",
       "      <td>ola ada</td>\n",
       "      <td>92828</td>\n",
       "      <td>Kano</td>\n",
       "    </tr>\n",
       "    <tr>\n",
       "      <th>7</th>\n",
       "      <td>8</td>\n",
       "      <td>adebis sancho</td>\n",
       "      <td>83837</td>\n",
       "      <td>Kano</td>\n",
       "    </tr>\n",
       "    <tr>\n",
       "      <th>8</th>\n",
       "      <td>9</td>\n",
       "      <td>yusuf kayode</td>\n",
       "      <td>837737</td>\n",
       "      <td>Lagos</td>\n",
       "    </tr>\n",
       "    <tr>\n",
       "      <th>9</th>\n",
       "      <td>10</td>\n",
       "      <td>Richael, odun</td>\n",
       "      <td>947328987</td>\n",
       "      <td>Kano</td>\n",
       "    </tr>\n",
       "  </tbody>\n",
       "</table>\n",
       "</div>"
      ],
      "text/plain": [
       "   customer_id       fullname   phone no  state\n",
       "0            1     james kola    2234555  Lagos\n",
       "1            2        ola obi    5435566  Lagos\n",
       "2            3       ada alao  947328987  Abuja\n",
       "3            4   ruth anthony     839998   Kano\n",
       "4            5  rasheed amole     938387  Lagos\n",
       "5            6   idris noheem     738727  Abuja\n",
       "6            7        ola ada      92828   Kano\n",
       "7            8  adebis sancho      83837   Kano\n",
       "8            9   yusuf kayode     837737  Lagos\n",
       "9           10  Richael, odun  947328987   Kano"
      ]
     },
     "execution_count": 17,
     "metadata": {},
     "output_type": "execute_result"
    }
   ],
   "source": [
    "# select everything from customer table in `orderdetails`\n",
    "mysql_query2 = \"\"\"select * from customer\"\"\" # to show all\n",
    "pd.read_sql_query(mysql_query2, connection)"
   ]
  },
  {
   "cell_type": "code",
   "execution_count": null,
   "id": "bc25ab28",
   "metadata": {},
   "outputs": [],
   "source": []
  },
  {
   "cell_type": "code",
   "execution_count": null,
   "id": "0c5ed02b",
   "metadata": {},
   "outputs": [],
   "source": []
  },
  {
   "cell_type": "code",
   "execution_count": null,
   "id": "b2c2fc56",
   "metadata": {},
   "outputs": [],
   "source": []
  }
 ],
 "metadata": {
  "kernelspec": {
   "display_name": "Python 3 (ipykernel)",
   "language": "python",
   "name": "python3"
  },
  "language_info": {
   "codemirror_mode": {
    "name": "ipython",
    "version": 3
   },
   "file_extension": ".py",
   "mimetype": "text/x-python",
   "name": "python",
   "nbconvert_exporter": "python",
   "pygments_lexer": "ipython3",
   "version": "3.9.13"
  }
 },
 "nbformat": 4,
 "nbformat_minor": 5
}
